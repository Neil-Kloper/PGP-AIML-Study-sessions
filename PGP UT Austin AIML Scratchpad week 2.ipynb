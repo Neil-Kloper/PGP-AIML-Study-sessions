{
 "cells": [
  {
   "cell_type": "markdown",
   "metadata": {},
   "source": [
    "# Week 2 Practice\n",
    "\n",
    "More fun with loops\n",
    "\n",
    "### Part 1 refresher"
   ]
  },
  {
   "cell_type": "code",
   "execution_count": 46,
   "metadata": {},
   "outputs": [],
   "source": [
    "x = [1,1,3,'q']"
   ]
  },
  {
   "cell_type": "code",
   "execution_count": 47,
   "metadata": {},
   "outputs": [
    {
     "name": "stdout",
     "output_type": "stream",
     "text": [
      "[1, 1, 3, 'q']\n"
     ]
    }
   ],
   "source": [
    "print(x)\n",
    "x[3] = 4\n",
    "x;"
   ]
  },
  {
   "cell_type": "code",
   "execution_count": 48,
   "metadata": {},
   "outputs": [
    {
     "data": {
      "text/plain": [
       "[1, 1, 3, 4]"
      ]
     },
     "execution_count": 48,
     "metadata": {},
     "output_type": "execute_result"
    }
   ],
   "source": [
    "x"
   ]
  },
  {
   "cell_type": "code",
   "execution_count": 49,
   "metadata": {},
   "outputs": [
    {
     "name": "stdout",
     "output_type": "stream",
     "text": [
      "1\n",
      "1\n",
      "3\n",
      "4\n"
     ]
    }
   ],
   "source": [
    "for i in x:\n",
    "    print(i)"
   ]
  },
  {
   "cell_type": "markdown",
   "metadata": {},
   "source": [
    "### simple for loops and while loops"
   ]
  },
  {
   "cell_type": "code",
   "execution_count": 50,
   "metadata": {},
   "outputs": [
    {
     "name": "stdout",
     "output_type": "stream",
     "text": [
      "9\n"
     ]
    }
   ],
   "source": [
    "count = 0\n",
    "for i in x:\n",
    "    count = count + i\n",
    "\n",
    "print(count)"
   ]
  },
  {
   "cell_type": "code",
   "execution_count": 51,
   "metadata": {},
   "outputs": [
    {
     "name": "stdout",
     "output_type": "stream",
     "text": [
      "5\n",
      "4\n",
      "3\n",
      "2\n",
      "1\n",
      "Ta da!\n"
     ]
    }
   ],
   "source": [
    "x = 5\n",
    "\n",
    "while x != 0:\n",
    "    print(x)\n",
    "    x-=1\n",
    "print('Ta da!')"
   ]
  },
  {
   "cell_type": "markdown",
   "metadata": {},
   "source": [
    "### Practical example of while, for, and nested loops"
   ]
  },
  {
   "cell_type": "code",
   "execution_count": 52,
   "metadata": {},
   "outputs": [],
   "source": [
    "def bronco_savings(deposit=500, roi=.02, goal=35000):\n",
    "    simple_i = roi/12\n",
    "    amount_saved = 0\n",
    "    months = 0\n",
    "    while amount_saved < goal:\n",
    "        amount_saved = amount_saved*(1+simple_i)\n",
    "        amount_saved += deposit\n",
    "        months+=1\n",
    "    return months"
   ]
  },
  {
   "cell_type": "code",
   "execution_count": 24,
   "metadata": {},
   "outputs": [
    {
     "data": {
      "text/plain": [
       "56"
      ]
     },
     "execution_count": 24,
     "metadata": {},
     "output_type": "execute_result"
    }
   ],
   "source": [
    "bronco_savings(roi=.03, goal=30000, deposit=500)"
   ]
  },
  {
   "cell_type": "code",
   "execution_count": 28,
   "metadata": {},
   "outputs": [
    {
     "data": {
      "text/plain": [
       "65"
      ]
     },
     "execution_count": 28,
     "metadata": {},
     "output_type": "execute_result"
    }
   ],
   "source": [
    "bronco_savings(roi=.03)"
   ]
  },
  {
   "cell_type": "markdown",
   "metadata": {},
   "source": [
    "Here we have a nested for loop to help us determine how much to spend on a Ford Bronco and how much to put away each month."
   ]
  },
  {
   "cell_type": "code",
   "execution_count": 44,
   "metadata": {},
   "outputs": [
    {
     "name": "stdout",
     "output_type": "stream",
     "text": [
      "it would take  64  months to save enough to buy a  20000 $ Ford Bronco, if we deposit  300 per month\n",
      "it would take  49  months to save enough to buy a  20000 $ Ford Bronco, if we deposit  400 per month\n",
      "it would take  39  months to save enough to buy a  20000 $ Ford Bronco, if we deposit  500 per month\n",
      "it would take  33  months to save enough to buy a  20000 $ Ford Bronco, if we deposit  600 per month\n",
      "it would take  28  months to save enough to buy a  20000 $ Ford Bronco, if we deposit  700 per month\n",
      "it would take  93  months to save enough to buy a  30000 $ Ford Bronco, if we deposit  300 per month\n",
      "it would take  71  months to save enough to buy a  30000 $ Ford Bronco, if we deposit  400 per month\n",
      "it would take  58  months to save enough to buy a  30000 $ Ford Bronco, if we deposit  500 per month\n",
      "it would take  49  months to save enough to buy a  30000 $ Ford Bronco, if we deposit  600 per month\n",
      "it would take  42  months to save enough to buy a  30000 $ Ford Bronco, if we deposit  700 per month\n",
      "it would take  121  months to save enough to buy a  40000 $ Ford Bronco, if we deposit  300 per month\n",
      "it would take  93  months to save enough to buy a  40000 $ Ford Bronco, if we deposit  400 per month\n",
      "it would take  76  months to save enough to buy a  40000 $ Ford Bronco, if we deposit  500 per month\n",
      "it would take  64  months to save enough to buy a  40000 $ Ford Bronco, if we deposit  600 per month\n",
      "it would take  55  months to save enough to buy a  40000 $ Ford Bronco, if we deposit  700 per month\n",
      "it would take  148  months to save enough to buy a  50000 $ Ford Bronco, if we deposit  300 per month\n",
      "it would take  114  months to save enough to buy a  50000 $ Ford Bronco, if we deposit  400 per month\n",
      "it would take  93  months to save enough to buy a  50000 $ Ford Bronco, if we deposit  500 per month\n",
      "it would take  79  months to save enough to buy a  50000 $ Ford Bronco, if we deposit  600 per month\n",
      "it would take  68  months to save enough to buy a  50000 $ Ford Bronco, if we deposit  700 per month\n",
      "it would take  173  months to save enough to buy a  60000 $ Ford Bronco, if we deposit  300 per month\n",
      "it would take  134  months to save enough to buy a  60000 $ Ford Bronco, if we deposit  400 per month\n",
      "it would take  110  months to save enough to buy a  60000 $ Ford Bronco, if we deposit  500 per month\n",
      "it would take  93  months to save enough to buy a  60000 $ Ford Bronco, if we deposit  600 per month\n",
      "it would take  81  months to save enough to buy a  60000 $ Ford Bronco, if we deposit  700 per month\n",
      "it would take  198  months to save enough to buy a  70000 $ Ford Bronco, if we deposit  300 per month\n",
      "it would take  154  months to save enough to buy a  70000 $ Ford Bronco, if we deposit  400 per month\n",
      "it would take  126  months to save enough to buy a  70000 $ Ford Bronco, if we deposit  500 per month\n",
      "it would take  107  months to save enough to buy a  70000 $ Ford Bronco, if we deposit  600 per month\n",
      "it would take  93  months to save enough to buy a  70000 $ Ford Bronco, if we deposit  700 per month\n"
     ]
    }
   ],
   "source": [
    "for i in range(20000, 80000, 10000):\n",
    "    for q in range(300, 701, 100):\n",
    "        print('it would take ', bronco_savings(goal=i, deposit=q),' months to save enough to buy a ', i, '$ Ford Bronco, if we deposit ', q,'per month')"
   ]
  },
  {
   "cell_type": "code",
   "execution_count": 38,
   "metadata": {},
   "outputs": [
    {
     "name": "stdout",
     "output_type": "stream",
     "text": [
      "[1, 2, 3]\n",
      "[1 2 3]\n",
      "range(1, 4)\n"
     ]
    }
   ],
   "source": [
    "# Different types of iterable objects\n",
    "lst = [1,2,3]\n",
    "aray = np.array([1,2,3])\n",
    "rnge = range(1,4)\n",
    "print(lst)\n",
    "print(aray)\n",
    "print(rnge)"
   ]
  }
 ],
 "metadata": {
  "kernelspec": {
   "display_name": "Python 3",
   "language": "python",
   "name": "python3"
  },
  "language_info": {
   "codemirror_mode": {
    "name": "ipython",
    "version": 3
   },
   "file_extension": ".py",
   "mimetype": "text/x-python",
   "name": "python",
   "nbconvert_exporter": "python",
   "pygments_lexer": "ipython3",
   "version": "3.7.3"
  }
 },
 "nbformat": 4,
 "nbformat_minor": 2
}
