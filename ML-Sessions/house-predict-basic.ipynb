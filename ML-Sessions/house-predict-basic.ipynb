{
 "cells": [
  {
   "cell_type": "markdown",
   "metadata": {
    "papermill": {
     "duration": 0.015103,
     "end_time": "2020-09-21T00:02:14.821830",
     "exception": false,
     "start_time": "2020-09-21T00:02:14.806727",
     "status": "completed"
    },
    "tags": []
   },
   "source": [
    "# Basics of creating predictions for kaggle competitions and submitting them\n",
    "\n",
    "This notebook uses the house prices beginner competition: https://www.kaggle.com/c/home-data-for-ml-course This notebook was run in a Kaggle cloud instance, but you can run this in a standard jupyter notebook environmnent if you perfer (but you would need to update the filepaths acourdingly).\n",
    "\n",
    "We begin by importing the data reading libraries and optionally printing the contents of Kaggle's input directory."
   ]
  },
  {
   "cell_type": "code",
   "execution_count": 1,
   "metadata": {
    "_cell_guid": "b1076dfc-b9ad-4769-8c92-a6c4dae69d19",
    "_uuid": "8f2839f25d086af736a60e9eeb907d3b93b6e0e5",
    "execution": {
     "iopub.execute_input": "2020-09-21T00:02:14.855668Z",
     "iopub.status.busy": "2020-09-21T00:02:14.854914Z",
     "iopub.status.idle": "2020-09-21T00:02:14.860845Z",
     "shell.execute_reply": "2020-09-21T00:02:14.860069Z"
    },
    "papermill": {
     "duration": 0.024389,
     "end_time": "2020-09-21T00:02:14.860960",
     "exception": false,
     "start_time": "2020-09-21T00:02:14.836571",
     "status": "completed"
    },
    "tags": []
   },
   "outputs": [
    {
     "name": "stdout",
     "output_type": "stream",
     "text": [
      "/kaggle/input/home-data-for-ml-course/train.csv\n",
      "/kaggle/input/home-data-for-ml-course/sample_submission.csv.gz\n",
      "/kaggle/input/home-data-for-ml-course/data_description.txt\n",
      "/kaggle/input/home-data-for-ml-course/test.csv.gz\n",
      "/kaggle/input/home-data-for-ml-course/test.csv\n",
      "/kaggle/input/home-data-for-ml-course/train.csv.gz\n",
      "/kaggle/input/home-data-for-ml-course/sample_submission.csv\n"
     ]
    }
   ],
   "source": [
    "import numpy as np\n",
    "import pandas as pd\n",
    "import os\n",
    "for dirname, _, filenames in os.walk('/kaggle/input'):\n",
    "    for filename in filenames:\n",
    "        print(os.path.join(dirname, filename))"
   ]
  },
  {
   "cell_type": "markdown",
   "metadata": {
    "papermill": {
     "duration": 0.012159,
     "end_time": "2020-09-21T00:02:14.889126",
     "exception": false,
     "start_time": "2020-09-21T00:02:14.876967",
     "status": "completed"
    },
    "tags": []
   },
   "source": [
    "Next we read in the files"
   ]
  },
  {
   "cell_type": "code",
   "execution_count": 2,
   "metadata": {
    "_cell_guid": "79c7e3d0-c299-4dcb-8224-4455121ee9b0",
    "_uuid": "d629ff2d2480ee46fbb7e2d37f6b5fab8052498a",
    "execution": {
     "iopub.execute_input": "2020-09-21T00:02:14.915342Z",
     "iopub.status.busy": "2020-09-21T00:02:14.914815Z",
     "iopub.status.idle": "2020-09-21T00:02:14.987766Z",
     "shell.execute_reply": "2020-09-21T00:02:14.987369Z"
    },
    "papermill": {
     "duration": 0.087058,
     "end_time": "2020-09-21T00:02:14.987844",
     "exception": false,
     "start_time": "2020-09-21T00:02:14.900786",
     "status": "completed"
    },
    "tags": []
   },
   "outputs": [],
   "source": [
    "train = pd.read_csv('../input/home-data-for-ml-course/train.csv', index_col='Id')\n",
    "test = pd.read_csv('../input/home-data-for-ml-course/test.csv', index_col='Id')"
   ]
  },
  {
   "cell_type": "markdown",
   "metadata": {
    "papermill": {
     "duration": 0.009939,
     "end_time": "2020-09-21T00:02:15.008225",
     "exception": false,
     "start_time": "2020-09-21T00:02:14.998286",
     "status": "completed"
    },
    "tags": []
   },
   "source": [
    "For this next step I create a list of all the columns with integer or floating point values"
   ]
  },
  {
   "cell_type": "code",
   "execution_count": 3,
   "metadata": {
    "execution": {
     "iopub.execute_input": "2020-09-21T00:02:15.040913Z",
     "iopub.status.busy": "2020-09-21T00:02:15.040265Z",
     "iopub.status.idle": "2020-09-21T00:02:15.103668Z",
     "shell.execute_reply": "2020-09-21T00:02:15.104113Z"
    },
    "papermill": {
     "duration": 0.08503,
     "end_time": "2020-09-21T00:02:15.104232",
     "exception": false,
     "start_time": "2020-09-21T00:02:15.019202",
     "status": "completed"
    },
    "tags": []
   },
   "outputs": [
    {
     "name": "stdout",
     "output_type": "stream",
     "text": [
      "<class 'pandas.core.frame.DataFrame'>\n",
      "Int64Index: 1460 entries, 1 to 1460\n",
      "Data columns (total 37 columns):\n",
      " #   Column         Non-Null Count  Dtype  \n",
      "---  ------         --------------  -----  \n",
      " 0   MSSubClass     1460 non-null   int64  \n",
      " 1   LotFrontage    1201 non-null   float64\n",
      " 2   LotArea        1460 non-null   int64  \n",
      " 3   OverallQual    1460 non-null   int64  \n",
      " 4   OverallCond    1460 non-null   int64  \n",
      " 5   YearBuilt      1460 non-null   int64  \n",
      " 6   YearRemodAdd   1460 non-null   int64  \n",
      " 7   MasVnrArea     1452 non-null   float64\n",
      " 8   BsmtFinSF1     1460 non-null   int64  \n",
      " 9   BsmtFinSF2     1460 non-null   int64  \n",
      " 10  BsmtUnfSF      1460 non-null   int64  \n",
      " 11  TotalBsmtSF    1460 non-null   int64  \n",
      " 12  1stFlrSF       1460 non-null   int64  \n",
      " 13  2ndFlrSF       1460 non-null   int64  \n",
      " 14  LowQualFinSF   1460 non-null   int64  \n",
      " 15  GrLivArea      1460 non-null   int64  \n",
      " 16  BsmtFullBath   1460 non-null   int64  \n",
      " 17  BsmtHalfBath   1460 non-null   int64  \n",
      " 18  FullBath       1460 non-null   int64  \n",
      " 19  HalfBath       1460 non-null   int64  \n",
      " 20  BedroomAbvGr   1460 non-null   int64  \n",
      " 21  KitchenAbvGr   1460 non-null   int64  \n",
      " 22  TotRmsAbvGrd   1460 non-null   int64  \n",
      " 23  Fireplaces     1460 non-null   int64  \n",
      " 24  GarageYrBlt    1379 non-null   float64\n",
      " 25  GarageCars     1460 non-null   int64  \n",
      " 26  GarageArea     1460 non-null   int64  \n",
      " 27  WoodDeckSF     1460 non-null   int64  \n",
      " 28  OpenPorchSF    1460 non-null   int64  \n",
      " 29  EnclosedPorch  1460 non-null   int64  \n",
      " 30  3SsnPorch      1460 non-null   int64  \n",
      " 31  ScreenPorch    1460 non-null   int64  \n",
      " 32  PoolArea       1460 non-null   int64  \n",
      " 33  MiscVal        1460 non-null   int64  \n",
      " 34  MoSold         1460 non-null   int64  \n",
      " 35  YrSold         1460 non-null   int64  \n",
      " 36  SalePrice      1460 non-null   int64  \n",
      "dtypes: float64(3), int64(34)\n",
      "memory usage: 433.4 KB\n"
     ]
    }
   ],
   "source": [
    "cols = list(train.describe().columns)\n",
    "train[cols].info()"
   ]
  },
  {
   "cell_type": "markdown",
   "metadata": {
    "papermill": {
     "duration": 0.015229,
     "end_time": "2020-09-21T00:02:15.134991",
     "exception": false,
     "start_time": "2020-09-21T00:02:15.119762",
     "status": "completed"
    },
    "tags": []
   },
   "source": [
    "Here for the sake of simplicity we fill in 0 for all the missing values. With the exception of garage year built, this is probably the best method of imputation."
   ]
  },
  {
   "cell_type": "code",
   "execution_count": 4,
   "metadata": {
    "execution": {
     "iopub.execute_input": "2020-09-21T00:02:15.170737Z",
     "iopub.status.busy": "2020-09-21T00:02:15.169923Z",
     "iopub.status.idle": "2020-09-21T00:02:15.174544Z",
     "shell.execute_reply": "2020-09-21T00:02:15.174147Z"
    },
    "papermill": {
     "duration": 0.024504,
     "end_time": "2020-09-21T00:02:15.174628",
     "exception": false,
     "start_time": "2020-09-21T00:02:15.150124",
     "status": "completed"
    },
    "tags": []
   },
   "outputs": [],
   "source": [
    "train = train[cols].fillna(0)\n",
    "# 17701train['SalePrice'] = train['SalePrice'].astype('float32')\n",
    "cols.remove('SalePrice')\n",
    "test = test[cols].fillna(0)"
   ]
  },
  {
   "cell_type": "markdown",
   "metadata": {
    "papermill": {
     "duration": 0.01019,
     "end_time": "2020-09-21T00:02:15.195766",
     "exception": false,
     "start_time": "2020-09-21T00:02:15.185576",
     "status": "completed"
    },
    "tags": []
   },
   "source": [
    "Here I simplify change the data type for each column to be 32 bit floating points, in testing this improves accuracy... I have no clue why"
   ]
  },
  {
   "cell_type": "code",
   "execution_count": 5,
   "metadata": {
    "execution": {
     "iopub.execute_input": "2020-09-21T00:02:15.222014Z",
     "iopub.status.busy": "2020-09-21T00:02:15.221363Z",
     "iopub.status.idle": "2020-09-21T00:02:15.246606Z",
     "shell.execute_reply": "2020-09-21T00:02:15.246216Z"
    },
    "papermill": {
     "duration": 0.040629,
     "end_time": "2020-09-21T00:02:15.246685",
     "exception": false,
     "start_time": "2020-09-21T00:02:15.206056",
     "status": "completed"
    },
    "tags": []
   },
   "outputs": [],
   "source": [
    "for col in cols:\n",
    "    train[col] = train[col].astype('float32')\n",
    "    test[col] = test[col].astype('float32')"
   ]
  },
  {
   "cell_type": "markdown",
   "metadata": {
    "papermill": {
     "duration": 0.010579,
     "end_time": "2020-09-21T00:02:15.268196",
     "exception": false,
     "start_time": "2020-09-21T00:02:15.257617",
     "status": "completed"
    },
    "tags": []
   },
   "source": [
    "Here we create our training and validation set"
   ]
  },
  {
   "cell_type": "code",
   "execution_count": 6,
   "metadata": {
    "execution": {
     "iopub.execute_input": "2020-09-21T00:02:15.295127Z",
     "iopub.status.busy": "2020-09-21T00:02:15.294702Z",
     "iopub.status.idle": "2020-09-21T00:02:16.344050Z",
     "shell.execute_reply": "2020-09-21T00:02:16.344411Z"
    },
    "papermill": {
     "duration": 1.065876,
     "end_time": "2020-09-21T00:02:16.344518",
     "exception": false,
     "start_time": "2020-09-21T00:02:15.278642",
     "status": "completed"
    },
    "tags": []
   },
   "outputs": [],
   "source": [
    "from sklearn.model_selection import train_test_split\n",
    "\n",
    "X = train[cols]\n",
    "y = train.SalePrice\n",
    "\n",
    "X_train, X_test, y_train, y_test = train_test_split(X, y, test_size=.2)"
   ]
  },
  {
   "cell_type": "markdown",
   "metadata": {
    "papermill": {
     "duration": 0.010768,
     "end_time": "2020-09-21T00:02:16.366243",
     "exception": false,
     "start_time": "2020-09-21T00:02:16.355475",
     "status": "completed"
    },
    "tags": []
   },
   "source": [
    "Now we create and train a random forest model. n_estimators is set to 60 as it reflects the copacity of the model, its my estimate of the complexity of the problem (didn't experiment with this hyperparameter so it by be wildly wrong). We also check the validation mean absolute error."
   ]
  },
  {
   "cell_type": "code",
   "execution_count": 7,
   "metadata": {
    "execution": {
     "iopub.execute_input": "2020-09-21T00:02:16.391421Z",
     "iopub.status.busy": "2020-09-21T00:02:16.390945Z",
     "iopub.status.idle": "2020-09-21T00:02:17.347179Z",
     "shell.execute_reply": "2020-09-21T00:02:17.347634Z"
    },
    "papermill": {
     "duration": 0.970974,
     "end_time": "2020-09-21T00:02:17.347743",
     "exception": false,
     "start_time": "2020-09-21T00:02:16.376769",
     "status": "completed"
    },
    "tags": []
   },
   "outputs": [
    {
     "name": "stdout",
     "output_type": "stream",
     "text": [
      "MAE for validation set is: 17708.77492117852\n"
     ]
    }
   ],
   "source": [
    "from sklearn.ensemble import RandomForestRegressor\n",
    "from sklearn.metrics import mean_absolute_error\n",
    "\n",
    "rfr = RandomForestRegressor(n_estimators=60)\n",
    "rfr.fit(X_train, y_train)\n",
    "preds = rfr.predict(X_test)\n",
    "print('MAE for validation set is:', mean_absolute_error(y_test, preds))"
   ]
  },
  {
   "cell_type": "raw",
   "metadata": {
    "papermill": {
     "duration": 0.010635,
     "end_time": "2020-09-21T00:02:17.370042",
     "exception": false,
     "start_time": "2020-09-21T00:02:17.359407",
     "status": "completed"
    },
    "tags": []
   },
   "source": [
    "Now we need to take make predictions and create a submission csv so that the output can be evaluated. The cell below has a sample submission, first we need to view the contents and make sure that our submission matches that format."
   ]
  },
  {
   "cell_type": "code",
   "execution_count": 8,
   "metadata": {
    "execution": {
     "iopub.execute_input": "2020-09-21T00:02:17.396644Z",
     "iopub.status.busy": "2020-09-21T00:02:17.396070Z",
     "iopub.status.idle": "2020-09-21T00:02:17.409977Z",
     "shell.execute_reply": "2020-09-21T00:02:17.409536Z"
    },
    "papermill": {
     "duration": 0.029222,
     "end_time": "2020-09-21T00:02:17.410050",
     "exception": false,
     "start_time": "2020-09-21T00:02:17.380828",
     "status": "completed"
    },
    "tags": []
   },
   "outputs": [
    {
     "data": {
      "text/html": [
       "<div>\n",
       "<style scoped>\n",
       "    .dataframe tbody tr th:only-of-type {\n",
       "        vertical-align: middle;\n",
       "    }\n",
       "\n",
       "    .dataframe tbody tr th {\n",
       "        vertical-align: top;\n",
       "    }\n",
       "\n",
       "    .dataframe thead th {\n",
       "        text-align: right;\n",
       "    }\n",
       "</style>\n",
       "<table border=\"1\" class=\"dataframe\">\n",
       "  <thead>\n",
       "    <tr style=\"text-align: right;\">\n",
       "      <th></th>\n",
       "      <th>SalePrice</th>\n",
       "    </tr>\n",
       "    <tr>\n",
       "      <th>Id</th>\n",
       "      <th></th>\n",
       "    </tr>\n",
       "  </thead>\n",
       "  <tbody>\n",
       "    <tr>\n",
       "      <th>1461</th>\n",
       "      <td>169277.052498</td>\n",
       "    </tr>\n",
       "    <tr>\n",
       "      <th>1462</th>\n",
       "      <td>187758.393989</td>\n",
       "    </tr>\n",
       "    <tr>\n",
       "      <th>1463</th>\n",
       "      <td>183583.683570</td>\n",
       "    </tr>\n",
       "    <tr>\n",
       "      <th>1464</th>\n",
       "      <td>179317.477511</td>\n",
       "    </tr>\n",
       "    <tr>\n",
       "      <th>1465</th>\n",
       "      <td>150730.079977</td>\n",
       "    </tr>\n",
       "    <tr>\n",
       "      <th>...</th>\n",
       "      <td>...</td>\n",
       "    </tr>\n",
       "    <tr>\n",
       "      <th>2915</th>\n",
       "      <td>167081.220949</td>\n",
       "    </tr>\n",
       "    <tr>\n",
       "      <th>2916</th>\n",
       "      <td>164788.778231</td>\n",
       "    </tr>\n",
       "    <tr>\n",
       "      <th>2917</th>\n",
       "      <td>219222.423400</td>\n",
       "    </tr>\n",
       "    <tr>\n",
       "      <th>2918</th>\n",
       "      <td>184924.279659</td>\n",
       "    </tr>\n",
       "    <tr>\n",
       "      <th>2919</th>\n",
       "      <td>187741.866657</td>\n",
       "    </tr>\n",
       "  </tbody>\n",
       "</table>\n",
       "<p>1459 rows × 1 columns</p>\n",
       "</div>"
      ],
      "text/plain": [
       "          SalePrice\n",
       "Id                 \n",
       "1461  169277.052498\n",
       "1462  187758.393989\n",
       "1463  183583.683570\n",
       "1464  179317.477511\n",
       "1465  150730.079977\n",
       "...             ...\n",
       "2915  167081.220949\n",
       "2916  164788.778231\n",
       "2917  219222.423400\n",
       "2918  184924.279659\n",
       "2919  187741.866657\n",
       "\n",
       "[1459 rows x 1 columns]"
      ]
     },
     "execution_count": 8,
     "metadata": {},
     "output_type": "execute_result"
    }
   ],
   "source": [
    "submission = pd.read_csv('../input/home-data-for-ml-course/sample_submission.csv', index_col='Id')\n",
    "submission"
   ]
  },
  {
   "cell_type": "markdown",
   "metadata": {
    "papermill": {
     "duration": 0.011222,
     "end_time": "2020-09-21T00:02:17.432986",
     "exception": false,
     "start_time": "2020-09-21T00:02:17.421764",
     "status": "completed"
    },
    "tags": []
   },
   "source": [
    "Next we save the predictions to a dataframe object"
   ]
  },
  {
   "cell_type": "code",
   "execution_count": 9,
   "metadata": {
    "execution": {
     "iopub.execute_input": "2020-09-21T00:02:17.459584Z",
     "iopub.status.busy": "2020-09-21T00:02:17.459006Z",
     "iopub.status.idle": "2020-09-21T00:02:17.483945Z",
     "shell.execute_reply": "2020-09-21T00:02:17.484271Z"
    },
    "papermill": {
     "duration": 0.040142,
     "end_time": "2020-09-21T00:02:17.484391",
     "exception": false,
     "start_time": "2020-09-21T00:02:17.444249",
     "status": "completed"
    },
    "tags": []
   },
   "outputs": [
    {
     "data": {
      "text/html": [
       "<div>\n",
       "<style scoped>\n",
       "    .dataframe tbody tr th:only-of-type {\n",
       "        vertical-align: middle;\n",
       "    }\n",
       "\n",
       "    .dataframe tbody tr th {\n",
       "        vertical-align: top;\n",
       "    }\n",
       "\n",
       "    .dataframe thead th {\n",
       "        text-align: right;\n",
       "    }\n",
       "</style>\n",
       "<table border=\"1\" class=\"dataframe\">\n",
       "  <thead>\n",
       "    <tr style=\"text-align: right;\">\n",
       "      <th></th>\n",
       "      <th>SalePrice</th>\n",
       "    </tr>\n",
       "    <tr>\n",
       "      <th>Id</th>\n",
       "      <th></th>\n",
       "    </tr>\n",
       "  </thead>\n",
       "  <tbody>\n",
       "    <tr>\n",
       "      <th>1461</th>\n",
       "      <td>130742.500000</td>\n",
       "    </tr>\n",
       "    <tr>\n",
       "      <th>1462</th>\n",
       "      <td>155088.333333</td>\n",
       "    </tr>\n",
       "    <tr>\n",
       "      <th>1463</th>\n",
       "      <td>180996.250000</td>\n",
       "    </tr>\n",
       "    <tr>\n",
       "      <th>1464</th>\n",
       "      <td>183562.500000</td>\n",
       "    </tr>\n",
       "    <tr>\n",
       "      <th>1465</th>\n",
       "      <td>199342.016667</td>\n",
       "    </tr>\n",
       "    <tr>\n",
       "      <th>...</th>\n",
       "      <td>...</td>\n",
       "    </tr>\n",
       "    <tr>\n",
       "      <th>2915</th>\n",
       "      <td>87458.216667</td>\n",
       "    </tr>\n",
       "    <tr>\n",
       "      <th>2916</th>\n",
       "      <td>92140.000000</td>\n",
       "    </tr>\n",
       "    <tr>\n",
       "      <th>2917</th>\n",
       "      <td>161234.083333</td>\n",
       "    </tr>\n",
       "    <tr>\n",
       "      <th>2918</th>\n",
       "      <td>113100.716667</td>\n",
       "    </tr>\n",
       "    <tr>\n",
       "      <th>2919</th>\n",
       "      <td>232945.233333</td>\n",
       "    </tr>\n",
       "  </tbody>\n",
       "</table>\n",
       "<p>1459 rows × 1 columns</p>\n",
       "</div>"
      ],
      "text/plain": [
       "          SalePrice\n",
       "Id                 \n",
       "1461  130742.500000\n",
       "1462  155088.333333\n",
       "1463  180996.250000\n",
       "1464  183562.500000\n",
       "1465  199342.016667\n",
       "...             ...\n",
       "2915   87458.216667\n",
       "2916   92140.000000\n",
       "2917  161234.083333\n",
       "2918  113100.716667\n",
       "2919  232945.233333\n",
       "\n",
       "[1459 rows x 1 columns]"
      ]
     },
     "execution_count": 9,
     "metadata": {},
     "output_type": "execute_result"
    }
   ],
   "source": [
    "_t = test.copy()\n",
    "_t['SalePrice'] = rfr.predict(_t)\n",
    "out = _t[['SalePrice']]\n",
    "out"
   ]
  },
  {
   "cell_type": "markdown",
   "metadata": {
    "papermill": {
     "duration": 0.011489,
     "end_time": "2020-09-21T00:02:17.507774",
     "exception": false,
     "start_time": "2020-09-21T00:02:17.496285",
     "status": "completed"
    },
    "tags": []
   },
   "source": [
    "Now we output this dataframe to a csv"
   ]
  },
  {
   "cell_type": "code",
   "execution_count": 10,
   "metadata": {
    "execution": {
     "iopub.execute_input": "2020-09-21T00:02:17.534310Z",
     "iopub.status.busy": "2020-09-21T00:02:17.533911Z",
     "iopub.status.idle": "2020-09-21T00:02:17.906091Z",
     "shell.execute_reply": "2020-09-21T00:02:17.905703Z"
    },
    "papermill": {
     "duration": 0.386764,
     "end_time": "2020-09-21T00:02:17.906178",
     "exception": false,
     "start_time": "2020-09-21T00:02:17.519414",
     "status": "completed"
    },
    "tags": []
   },
   "outputs": [],
   "source": [
    "out.to_csv('submission.csv')"
   ]
  },
  {
   "cell_type": "markdown",
   "metadata": {
    "papermill": {
     "duration": 0.011722,
     "end_time": "2020-09-21T00:02:17.930563",
     "exception": false,
     "start_time": "2020-09-21T00:02:17.918841",
     "status": "completed"
    },
    "tags": []
   },
   "source": [
    "In the two cells below we check to see if the format matches"
   ]
  },
  {
   "cell_type": "code",
   "execution_count": 11,
   "metadata": {
    "execution": {
     "iopub.execute_input": "2020-09-21T00:02:17.957647Z",
     "iopub.status.busy": "2020-09-21T00:02:17.957185Z",
     "iopub.status.idle": "2020-09-21T00:02:17.967502Z",
     "shell.execute_reply": "2020-09-21T00:02:17.967001Z"
    },
    "papermill": {
     "duration": 0.025146,
     "end_time": "2020-09-21T00:02:17.967590",
     "exception": false,
     "start_time": "2020-09-21T00:02:17.942444",
     "status": "completed"
    },
    "tags": []
   },
   "outputs": [
    {
     "data": {
      "text/html": [
       "<div>\n",
       "<style scoped>\n",
       "    .dataframe tbody tr th:only-of-type {\n",
       "        vertical-align: middle;\n",
       "    }\n",
       "\n",
       "    .dataframe tbody tr th {\n",
       "        vertical-align: top;\n",
       "    }\n",
       "\n",
       "    .dataframe thead th {\n",
       "        text-align: right;\n",
       "    }\n",
       "</style>\n",
       "<table border=\"1\" class=\"dataframe\">\n",
       "  <thead>\n",
       "    <tr style=\"text-align: right;\">\n",
       "      <th></th>\n",
       "      <th>Id</th>\n",
       "      <th>SalePrice</th>\n",
       "    </tr>\n",
       "  </thead>\n",
       "  <tbody>\n",
       "    <tr>\n",
       "      <th>0</th>\n",
       "      <td>1461</td>\n",
       "      <td>130742.500000</td>\n",
       "    </tr>\n",
       "    <tr>\n",
       "      <th>1</th>\n",
       "      <td>1462</td>\n",
       "      <td>155088.333333</td>\n",
       "    </tr>\n",
       "    <tr>\n",
       "      <th>2</th>\n",
       "      <td>1463</td>\n",
       "      <td>180996.250000</td>\n",
       "    </tr>\n",
       "    <tr>\n",
       "      <th>3</th>\n",
       "      <td>1464</td>\n",
       "      <td>183562.500000</td>\n",
       "    </tr>\n",
       "    <tr>\n",
       "      <th>4</th>\n",
       "      <td>1465</td>\n",
       "      <td>199342.016667</td>\n",
       "    </tr>\n",
       "    <tr>\n",
       "      <th>...</th>\n",
       "      <td>...</td>\n",
       "      <td>...</td>\n",
       "    </tr>\n",
       "    <tr>\n",
       "      <th>1454</th>\n",
       "      <td>2915</td>\n",
       "      <td>87458.216667</td>\n",
       "    </tr>\n",
       "    <tr>\n",
       "      <th>1455</th>\n",
       "      <td>2916</td>\n",
       "      <td>92140.000000</td>\n",
       "    </tr>\n",
       "    <tr>\n",
       "      <th>1456</th>\n",
       "      <td>2917</td>\n",
       "      <td>161234.083333</td>\n",
       "    </tr>\n",
       "    <tr>\n",
       "      <th>1457</th>\n",
       "      <td>2918</td>\n",
       "      <td>113100.716667</td>\n",
       "    </tr>\n",
       "    <tr>\n",
       "      <th>1458</th>\n",
       "      <td>2919</td>\n",
       "      <td>232945.233333</td>\n",
       "    </tr>\n",
       "  </tbody>\n",
       "</table>\n",
       "<p>1459 rows × 2 columns</p>\n",
       "</div>"
      ],
      "text/plain": [
       "        Id      SalePrice\n",
       "0     1461  130742.500000\n",
       "1     1462  155088.333333\n",
       "2     1463  180996.250000\n",
       "3     1464  183562.500000\n",
       "4     1465  199342.016667\n",
       "...    ...            ...\n",
       "1454  2915   87458.216667\n",
       "1455  2916   92140.000000\n",
       "1456  2917  161234.083333\n",
       "1457  2918  113100.716667\n",
       "1458  2919  232945.233333\n",
       "\n",
       "[1459 rows x 2 columns]"
      ]
     },
     "execution_count": 11,
     "metadata": {},
     "output_type": "execute_result"
    }
   ],
   "source": [
    "pd.read_csv('./submission.csv')"
   ]
  },
  {
   "cell_type": "code",
   "execution_count": 12,
   "metadata": {
    "execution": {
     "iopub.execute_input": "2020-09-21T00:02:18.009059Z",
     "iopub.status.busy": "2020-09-21T00:02:18.008480Z",
     "iopub.status.idle": "2020-09-21T00:02:18.018056Z",
     "shell.execute_reply": "2020-09-21T00:02:18.017470Z"
    },
    "papermill": {
     "duration": 0.031918,
     "end_time": "2020-09-21T00:02:18.018145",
     "exception": false,
     "start_time": "2020-09-21T00:02:17.986227",
     "status": "completed"
    },
    "tags": []
   },
   "outputs": [
    {
     "data": {
      "text/html": [
       "<div>\n",
       "<style scoped>\n",
       "    .dataframe tbody tr th:only-of-type {\n",
       "        vertical-align: middle;\n",
       "    }\n",
       "\n",
       "    .dataframe tbody tr th {\n",
       "        vertical-align: top;\n",
       "    }\n",
       "\n",
       "    .dataframe thead th {\n",
       "        text-align: right;\n",
       "    }\n",
       "</style>\n",
       "<table border=\"1\" class=\"dataframe\">\n",
       "  <thead>\n",
       "    <tr style=\"text-align: right;\">\n",
       "      <th></th>\n",
       "      <th>Id</th>\n",
       "      <th>SalePrice</th>\n",
       "    </tr>\n",
       "  </thead>\n",
       "  <tbody>\n",
       "    <tr>\n",
       "      <th>0</th>\n",
       "      <td>1461</td>\n",
       "      <td>169277.052498</td>\n",
       "    </tr>\n",
       "    <tr>\n",
       "      <th>1</th>\n",
       "      <td>1462</td>\n",
       "      <td>187758.393989</td>\n",
       "    </tr>\n",
       "    <tr>\n",
       "      <th>2</th>\n",
       "      <td>1463</td>\n",
       "      <td>183583.683570</td>\n",
       "    </tr>\n",
       "    <tr>\n",
       "      <th>3</th>\n",
       "      <td>1464</td>\n",
       "      <td>179317.477511</td>\n",
       "    </tr>\n",
       "    <tr>\n",
       "      <th>4</th>\n",
       "      <td>1465</td>\n",
       "      <td>150730.079977</td>\n",
       "    </tr>\n",
       "    <tr>\n",
       "      <th>...</th>\n",
       "      <td>...</td>\n",
       "      <td>...</td>\n",
       "    </tr>\n",
       "    <tr>\n",
       "      <th>1454</th>\n",
       "      <td>2915</td>\n",
       "      <td>167081.220949</td>\n",
       "    </tr>\n",
       "    <tr>\n",
       "      <th>1455</th>\n",
       "      <td>2916</td>\n",
       "      <td>164788.778231</td>\n",
       "    </tr>\n",
       "    <tr>\n",
       "      <th>1456</th>\n",
       "      <td>2917</td>\n",
       "      <td>219222.423400</td>\n",
       "    </tr>\n",
       "    <tr>\n",
       "      <th>1457</th>\n",
       "      <td>2918</td>\n",
       "      <td>184924.279659</td>\n",
       "    </tr>\n",
       "    <tr>\n",
       "      <th>1458</th>\n",
       "      <td>2919</td>\n",
       "      <td>187741.866657</td>\n",
       "    </tr>\n",
       "  </tbody>\n",
       "</table>\n",
       "<p>1459 rows × 2 columns</p>\n",
       "</div>"
      ],
      "text/plain": [
       "        Id      SalePrice\n",
       "0     1461  169277.052498\n",
       "1     1462  187758.393989\n",
       "2     1463  183583.683570\n",
       "3     1464  179317.477511\n",
       "4     1465  150730.079977\n",
       "...    ...            ...\n",
       "1454  2915  167081.220949\n",
       "1455  2916  164788.778231\n",
       "1456  2917  219222.423400\n",
       "1457  2918  184924.279659\n",
       "1458  2919  187741.866657\n",
       "\n",
       "[1459 rows x 2 columns]"
      ]
     },
     "execution_count": 12,
     "metadata": {},
     "output_type": "execute_result"
    }
   ],
   "source": [
    "pd.read_csv('../input/home-data-for-ml-course/sample_submission.csv')"
   ]
  },
  {
   "cell_type": "markdown",
   "metadata": {
    "papermill": {
     "duration": 0.019346,
     "end_time": "2020-09-21T00:02:18.057189",
     "exception": false,
     "start_time": "2020-09-21T00:02:18.037843",
     "status": "completed"
    },
    "tags": []
   },
   "source": [
    "At this point there are two ways to evaluate the model on the test data. You can take the csv you created and upload it to Kaggle on the competition leaderboard page, or if you ran and commited this notebook in a kaggle you can go to the committed viewer page, look at the output section, select the submission.csv and there will be an option 'submit to competition'"
   ]
  }
 ],
 "metadata": {
  "kernelspec": {
   "display_name": "Python 3",
   "language": "python",
   "name": "python3"
  },
  "language_info": {
   "codemirror_mode": {
    "name": "ipython",
    "version": 3
   },
   "file_extension": ".py",
   "mimetype": "text/x-python",
   "name": "python",
   "nbconvert_exporter": "python",
   "pygments_lexer": "ipython3",
   "version": "3.7.6"
  },
  "papermill": {
   "duration": 7.165878,
   "end_time": "2020-09-21T00:02:18.180950",
   "environment_variables": {},
   "exception": null,
   "input_path": "__notebook__.ipynb",
   "output_path": "__notebook__.ipynb",
   "parameters": {},
   "start_time": "2020-09-21T00:02:11.015072",
   "version": "2.1.0"
  }
 },
 "nbformat": 4,
 "nbformat_minor": 4
}
