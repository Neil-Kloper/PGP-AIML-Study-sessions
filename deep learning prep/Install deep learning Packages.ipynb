{
 "cells": [
  {
   "cell_type": "markdown",
   "metadata": {},
   "source": [
    "# Installing Tensorflow/Keras\n",
    " first run the cell below, the first line will use the current stable version of tensorflow, the second line is for the beta version (which in my case I need because I have a CUDA 11 GPU)"
   ]
  },
  {
   "cell_type": "code",
   "execution_count": 2,
   "metadata": {},
   "outputs": [
    {
     "name": "stdout",
     "output_type": "stream",
     "text": [
      "Requirement already satisfied: tf-nightly-gpu==2.5.0.dev20201028 in c:\\users\\neiln\\appdata\\roaming\\python\\python38\\site-packages (2.5.0.dev20201028)\n",
      "Requirement already satisfied: grpcio~=1.32.0 in c:\\users\\neiln\\anaconda3\\lib\\site-packages (from tf-nightly-gpu==2.5.0.dev20201028) (1.32.0)\n",
      "Requirement already satisfied: opt-einsum~=3.3.0 in c:\\users\\neiln\\anaconda3\\lib\\site-packages (from tf-nightly-gpu==2.5.0.dev20201028) (3.3.0)\n",
      "Requirement already satisfied: google-pasta~=0.2 in c:\\users\\neiln\\anaconda3\\lib\\site-packages (from tf-nightly-gpu==2.5.0.dev20201028) (0.2.0)\n",
      "Requirement already satisfied: numpy~=1.19.2 in c:\\users\\neiln\\anaconda3\\lib\\site-packages (from tf-nightly-gpu==2.5.0.dev20201028) (1.19.3)\n",
      "Requirement already satisfied: protobuf~=3.13.0 in c:\\users\\neiln\\appdata\\roaming\\python\\python38\\site-packages (from tf-nightly-gpu==2.5.0.dev20201028) (3.13.0)\n",
      "Requirement already satisfied: gast==0.3.3 in c:\\users\\neiln\\anaconda3\\lib\\site-packages (from tf-nightly-gpu==2.5.0.dev20201028) (0.3.3)\n",
      "Requirement already satisfied: keras-preprocessing~=1.1.2 in c:\\users\\neiln\\anaconda3\\lib\\site-packages (from tf-nightly-gpu==2.5.0.dev20201028) (1.1.2)\n",
      "Requirement already satisfied: tf-estimator-nightly~=2.4.0.dev in c:\\users\\neiln\\anaconda3\\lib\\site-packages (from tf-nightly-gpu==2.5.0.dev20201028) (2.4.0.dev2020102301)\n",
      "Requirement already satisfied: astunparse~=1.6.3 in c:\\users\\neiln\\anaconda3\\lib\\site-packages (from tf-nightly-gpu==2.5.0.dev20201028) (1.6.3)\n",
      "Requirement already satisfied: tb-nightly~=2.4.0.a in c:\\users\\neiln\\appdata\\roaming\\python\\python38\\site-packages (from tf-nightly-gpu==2.5.0.dev20201028) (2.4.0a20201112)\n",
      "Requirement already satisfied: six~=1.15.0 in c:\\users\\neiln\\anaconda3\\lib\\site-packages (from tf-nightly-gpu==2.5.0.dev20201028) (1.15.0)\n",
      "Requirement already satisfied: absl-py~=0.10 in c:\\users\\neiln\\anaconda3\\lib\\site-packages (from tf-nightly-gpu==2.5.0.dev20201028) (0.11.0)\n",
      "Requirement already satisfied: h5py~=2.10.0 in c:\\users\\neiln\\anaconda3\\lib\\site-packages (from tf-nightly-gpu==2.5.0.dev20201028) (2.10.0)\n",
      "Requirement already satisfied: termcolor~=1.1.0 in c:\\users\\neiln\\anaconda3\\lib\\site-packages (from tf-nightly-gpu==2.5.0.dev20201028) (1.1.0)\n",
      "Requirement already satisfied: flatbuffers~=1.12.0 in c:\\users\\neiln\\anaconda3\\lib\\site-packages (from tf-nightly-gpu==2.5.0.dev20201028) (1.12)\n",
      "Requirement already satisfied: typing-extensions~=3.7.4 in c:\\users\\neiln\\anaconda3\\lib\\site-packages (from tf-nightly-gpu==2.5.0.dev20201028) (3.7.4.3)\n",
      "Requirement already satisfied: wheel~=0.35 in c:\\users\\neiln\\anaconda3\\lib\\site-packages (from tf-nightly-gpu==2.5.0.dev20201028) (0.35.1)\n",
      "Requirement already satisfied: wrapt~=1.12.1 in c:\\users\\neiln\\anaconda3\\lib\\site-packages (from tf-nightly-gpu==2.5.0.dev20201028) (1.12.1)\n",
      "Requirement already satisfied: setuptools in c:\\users\\neiln\\anaconda3\\lib\\site-packages (from protobuf~=3.13.0->tf-nightly-gpu==2.5.0.dev20201028) (50.3.1.post20201107)\n",
      "Requirement already satisfied: google-auth<2,>=1.6.3 in c:\\users\\neiln\\anaconda3\\lib\\site-packages (from tb-nightly~=2.4.0.a->tf-nightly-gpu==2.5.0.dev20201028) (1.23.0)\n",
      "Requirement already satisfied: werkzeug>=0.11.15 in c:\\users\\neiln\\anaconda3\\lib\\site-packages (from tb-nightly~=2.4.0.a->tf-nightly-gpu==2.5.0.dev20201028) (1.0.1)\n",
      "Requirement already satisfied: google-auth-oauthlib<0.5,>=0.4.1 in c:\\users\\neiln\\anaconda3\\lib\\site-packages (from tb-nightly~=2.4.0.a->tf-nightly-gpu==2.5.0.dev20201028) (0.4.2)\n",
      "Requirement already satisfied: markdown>=2.6.8 in c:\\users\\neiln\\anaconda3\\lib\\site-packages (from tb-nightly~=2.4.0.a->tf-nightly-gpu==2.5.0.dev20201028) (3.3.3)\n",
      "Requirement already satisfied: requests<3,>=2.21.0 in c:\\users\\neiln\\anaconda3\\lib\\site-packages (from tb-nightly~=2.4.0.a->tf-nightly-gpu==2.5.0.dev20201028) (2.24.0)\n",
      "Requirement already satisfied: tensorboard-plugin-wit>=1.6.0 in c:\\users\\neiln\\anaconda3\\lib\\site-packages (from tb-nightly~=2.4.0.a->tf-nightly-gpu==2.5.0.dev20201028) (1.7.0)\n",
      "Requirement already satisfied: cachetools<5.0,>=2.0.0 in c:\\users\\neiln\\anaconda3\\lib\\site-packages (from google-auth<2,>=1.6.3->tb-nightly~=2.4.0.a->tf-nightly-gpu==2.5.0.dev20201028) (4.1.1)\n",
      "Requirement already satisfied: rsa<5,>=3.1.4; python_version >= \"3.5\" in c:\\users\\neiln\\anaconda3\\lib\\site-packages (from google-auth<2,>=1.6.3->tb-nightly~=2.4.0.a->tf-nightly-gpu==2.5.0.dev20201028) (4.6)\n",
      "Requirement already satisfied: pyasn1-modules>=0.2.1 in c:\\users\\neiln\\anaconda3\\lib\\site-packages (from google-auth<2,>=1.6.3->tb-nightly~=2.4.0.a->tf-nightly-gpu==2.5.0.dev20201028) (0.2.8)\n",
      "Requirement already satisfied: requests-oauthlib>=0.7.0 in c:\\users\\neiln\\anaconda3\\lib\\site-packages (from google-auth-oauthlib<0.5,>=0.4.1->tb-nightly~=2.4.0.a->tf-nightly-gpu==2.5.0.dev20201028) (1.3.0)\n",
      "Requirement already satisfied: chardet<4,>=3.0.2 in c:\\users\\neiln\\anaconda3\\lib\\site-packages (from requests<3,>=2.21.0->tb-nightly~=2.4.0.a->tf-nightly-gpu==2.5.0.dev20201028) (3.0.4)\n",
      "Requirement already satisfied: urllib3!=1.25.0,!=1.25.1,<1.26,>=1.21.1 in c:\\users\\neiln\\anaconda3\\lib\\site-packages (from requests<3,>=2.21.0->tb-nightly~=2.4.0.a->tf-nightly-gpu==2.5.0.dev20201028) (1.25.11)\n",
      "Requirement already satisfied: certifi>=2017.4.17 in c:\\users\\neiln\\anaconda3\\lib\\site-packages (from requests<3,>=2.21.0->tb-nightly~=2.4.0.a->tf-nightly-gpu==2.5.0.dev20201028) (2020.6.20)\n",
      "Requirement already satisfied: idna<3,>=2.5 in c:\\users\\neiln\\anaconda3\\lib\\site-packages (from requests<3,>=2.21.0->tb-nightly~=2.4.0.a->tf-nightly-gpu==2.5.0.dev20201028) (2.10)\n",
      "Requirement already satisfied: pyasn1>=0.1.3 in c:\\users\\neiln\\anaconda3\\lib\\site-packages (from rsa<5,>=3.1.4; python_version >= \"3.5\"->google-auth<2,>=1.6.3->tb-nightly~=2.4.0.a->tf-nightly-gpu==2.5.0.dev20201028) (0.4.8)\n",
      "Requirement already satisfied: oauthlib>=3.0.0 in c:\\users\\neiln\\anaconda3\\lib\\site-packages (from requests-oauthlib>=0.7.0->google-auth-oauthlib<0.5,>=0.4.1->tb-nightly~=2.4.0.a->tf-nightly-gpu==2.5.0.dev20201028) (3.1.0)\n"
     ]
    }
   ],
   "source": [
    "# !pip install tensorflow\n",
    "!pip install tf-nightly-gpu==2.5.0.dev20201028 --user"
   ]
  },
  {
   "cell_type": "markdown",
   "metadata": {},
   "source": [
    "Next, go to: https://www.tensorflow.org/install/pip#windows\n",
    "and check for your OS dependancies, follow the steps (which will be easy)."
   ]
  },
  {
   "cell_type": "code",
   "execution_count": 3,
   "metadata": {},
   "outputs": [
    {
     "ename": "RuntimeError",
     "evalue": "The current Numpy installation ('C:\\\\Users\\\\Neiln\\\\AppData\\\\Roaming\\\\Python\\\\Python38\\\\site-packages\\\\numpy\\\\__init__.py') fails to pass a sanity check due to a bug in the windows runtime. See this issue for more information: https://tinyurl.com/y3dm3h86",
     "output_type": "error",
     "traceback": [
      "\u001b[1;31m---------------------------------------------------------------------------\u001b[0m",
      "\u001b[1;31mRuntimeError\u001b[0m                              Traceback (most recent call last)",
      "\u001b[1;32m<ipython-input-3-4ae80da9abf6>\u001b[0m in \u001b[0;36m<module>\u001b[1;34m\u001b[0m\n\u001b[1;32m----> 1\u001b[1;33m \u001b[1;32mimport\u001b[0m \u001b[0mtensorflow\u001b[0m \u001b[1;32mas\u001b[0m \u001b[0mtf\u001b[0m\u001b[1;33m\u001b[0m\u001b[1;33m\u001b[0m\u001b[0m\n\u001b[0m\u001b[0;32m      2\u001b[0m \u001b[0mtf\u001b[0m\u001b[1;33m.\u001b[0m\u001b[0m__version__\u001b[0m\u001b[1;33m\u001b[0m\u001b[1;33m\u001b[0m\u001b[0m\n",
      "\u001b[1;32m~\\AppData\\Roaming\\Python\\Python38\\site-packages\\tensorflow\\__init__.py\u001b[0m in \u001b[0;36m<module>\u001b[1;34m\u001b[0m\n\u001b[0;32m     39\u001b[0m \u001b[1;32mimport\u001b[0m \u001b[0msys\u001b[0m \u001b[1;32mas\u001b[0m \u001b[0m_sys\u001b[0m\u001b[1;33m\u001b[0m\u001b[1;33m\u001b[0m\u001b[0m\n\u001b[0;32m     40\u001b[0m \u001b[1;33m\u001b[0m\u001b[0m\n\u001b[1;32m---> 41\u001b[1;33m \u001b[1;32mfrom\u001b[0m \u001b[0mtensorflow\u001b[0m\u001b[1;33m.\u001b[0m\u001b[0mpython\u001b[0m\u001b[1;33m.\u001b[0m\u001b[0mtools\u001b[0m \u001b[1;32mimport\u001b[0m \u001b[0mmodule_util\u001b[0m \u001b[1;32mas\u001b[0m \u001b[0m_module_util\u001b[0m\u001b[1;33m\u001b[0m\u001b[1;33m\u001b[0m\u001b[0m\n\u001b[0m\u001b[0;32m     42\u001b[0m \u001b[1;32mfrom\u001b[0m \u001b[0mtensorflow\u001b[0m\u001b[1;33m.\u001b[0m\u001b[0mpython\u001b[0m\u001b[1;33m.\u001b[0m\u001b[0mutil\u001b[0m\u001b[1;33m.\u001b[0m\u001b[0mlazy_loader\u001b[0m \u001b[1;32mimport\u001b[0m \u001b[0mLazyLoader\u001b[0m \u001b[1;32mas\u001b[0m \u001b[0m_LazyLoader\u001b[0m\u001b[1;33m\u001b[0m\u001b[1;33m\u001b[0m\u001b[0m\n\u001b[0;32m     43\u001b[0m \u001b[1;33m\u001b[0m\u001b[0m\n",
      "\u001b[1;32m~\\AppData\\Roaming\\Python\\Python38\\site-packages\\tensorflow\\python\\__init__.py\u001b[0m in \u001b[0;36m<module>\u001b[1;34m\u001b[0m\n\u001b[0;32m     39\u001b[0m \u001b[1;32mfrom\u001b[0m \u001b[0mtensorflow\u001b[0m\u001b[1;33m.\u001b[0m\u001b[0mpython\u001b[0m \u001b[1;32mimport\u001b[0m \u001b[0mpywrap_tensorflow\u001b[0m \u001b[1;32mas\u001b[0m \u001b[0m_pywrap_tensorflow\u001b[0m\u001b[1;33m\u001b[0m\u001b[1;33m\u001b[0m\u001b[0m\n\u001b[0;32m     40\u001b[0m \u001b[1;33m\u001b[0m\u001b[0m\n\u001b[1;32m---> 41\u001b[1;33m \u001b[1;32mfrom\u001b[0m \u001b[0mtensorflow\u001b[0m\u001b[1;33m.\u001b[0m\u001b[0mpython\u001b[0m\u001b[1;33m.\u001b[0m\u001b[0meager\u001b[0m \u001b[1;32mimport\u001b[0m \u001b[0mcontext\u001b[0m\u001b[1;33m\u001b[0m\u001b[1;33m\u001b[0m\u001b[0m\n\u001b[0m\u001b[0;32m     42\u001b[0m \u001b[1;33m\u001b[0m\u001b[0m\n\u001b[0;32m     43\u001b[0m \u001b[1;31m# pylint: enable=wildcard-import\u001b[0m\u001b[1;33m\u001b[0m\u001b[1;33m\u001b[0m\u001b[1;33m\u001b[0m\u001b[0m\n",
      "\u001b[1;32m~\\AppData\\Roaming\\Python\\Python38\\site-packages\\tensorflow\\python\\eager\\context.py\u001b[0m in \u001b[0;36m<module>\u001b[1;34m\u001b[0m\n\u001b[0;32m     27\u001b[0m \u001b[1;33m\u001b[0m\u001b[0m\n\u001b[0;32m     28\u001b[0m \u001b[1;32mfrom\u001b[0m \u001b[0mabsl\u001b[0m \u001b[1;32mimport\u001b[0m \u001b[0mlogging\u001b[0m\u001b[1;33m\u001b[0m\u001b[1;33m\u001b[0m\u001b[0m\n\u001b[1;32m---> 29\u001b[1;33m \u001b[1;32mimport\u001b[0m \u001b[0mnumpy\u001b[0m \u001b[1;32mas\u001b[0m \u001b[0mnp\u001b[0m\u001b[1;33m\u001b[0m\u001b[1;33m\u001b[0m\u001b[0m\n\u001b[0m\u001b[0;32m     30\u001b[0m \u001b[1;32mimport\u001b[0m \u001b[0msix\u001b[0m\u001b[1;33m\u001b[0m\u001b[1;33m\u001b[0m\u001b[0m\n\u001b[0;32m     31\u001b[0m \u001b[1;33m\u001b[0m\u001b[0m\n",
      "\u001b[1;32m~\\AppData\\Roaming\\Python\\Python38\\site-packages\\numpy\\__init__.py\u001b[0m in \u001b[0;36m<module>\u001b[1;34m\u001b[0m\n\u001b[0;32m    303\u001b[0m \u001b[1;33m\u001b[0m\u001b[0m\n\u001b[0;32m    304\u001b[0m     \u001b[1;32mif\u001b[0m \u001b[0msys\u001b[0m\u001b[1;33m.\u001b[0m\u001b[0mplatform\u001b[0m \u001b[1;33m==\u001b[0m \u001b[1;34m\"win32\"\u001b[0m \u001b[1;32mand\u001b[0m \u001b[0msys\u001b[0m\u001b[1;33m.\u001b[0m\u001b[0mmaxsize\u001b[0m \u001b[1;33m>\u001b[0m \u001b[1;36m2\u001b[0m\u001b[1;33m**\u001b[0m\u001b[1;36m32\u001b[0m\u001b[1;33m:\u001b[0m\u001b[1;33m\u001b[0m\u001b[1;33m\u001b[0m\u001b[0m\n\u001b[1;32m--> 305\u001b[1;33m         \u001b[0m_win_os_check\u001b[0m\u001b[1;33m(\u001b[0m\u001b[1;33m)\u001b[0m\u001b[1;33m\u001b[0m\u001b[1;33m\u001b[0m\u001b[0m\n\u001b[0m\u001b[0;32m    306\u001b[0m \u001b[1;33m\u001b[0m\u001b[0m\n\u001b[0;32m    307\u001b[0m     \u001b[1;32mdel\u001b[0m \u001b[0m_win_os_check\u001b[0m\u001b[1;33m\u001b[0m\u001b[1;33m\u001b[0m\u001b[0m\n",
      "\u001b[1;32m~\\AppData\\Roaming\\Python\\Python38\\site-packages\\numpy\\__init__.py\u001b[0m in \u001b[0;36m_win_os_check\u001b[1;34m()\u001b[0m\n\u001b[0;32m    300\u001b[0m                    \u001b[1;34m\"See this issue for more information: \"\u001b[0m\u001b[1;33m\u001b[0m\u001b[1;33m\u001b[0m\u001b[0m\n\u001b[0;32m    301\u001b[0m                    \"https://tinyurl.com/y3dm3h86\")\n\u001b[1;32m--> 302\u001b[1;33m             \u001b[1;32mraise\u001b[0m \u001b[0mRuntimeError\u001b[0m\u001b[1;33m(\u001b[0m\u001b[0mmsg\u001b[0m\u001b[1;33m.\u001b[0m\u001b[0mformat\u001b[0m\u001b[1;33m(\u001b[0m\u001b[0m__file__\u001b[0m\u001b[1;33m)\u001b[0m\u001b[1;33m)\u001b[0m \u001b[1;32mfrom\u001b[0m \u001b[1;32mNone\u001b[0m\u001b[1;33m\u001b[0m\u001b[1;33m\u001b[0m\u001b[0m\n\u001b[0m\u001b[0;32m    303\u001b[0m \u001b[1;33m\u001b[0m\u001b[0m\n\u001b[0;32m    304\u001b[0m     \u001b[1;32mif\u001b[0m \u001b[0msys\u001b[0m\u001b[1;33m.\u001b[0m\u001b[0mplatform\u001b[0m \u001b[1;33m==\u001b[0m \u001b[1;34m\"win32\"\u001b[0m \u001b[1;32mand\u001b[0m \u001b[0msys\u001b[0m\u001b[1;33m.\u001b[0m\u001b[0mmaxsize\u001b[0m \u001b[1;33m>\u001b[0m \u001b[1;36m2\u001b[0m\u001b[1;33m**\u001b[0m\u001b[1;36m32\u001b[0m\u001b[1;33m:\u001b[0m\u001b[1;33m\u001b[0m\u001b[1;33m\u001b[0m\u001b[0m\n",
      "\u001b[1;31mRuntimeError\u001b[0m: The current Numpy installation ('C:\\\\Users\\\\Neiln\\\\AppData\\\\Roaming\\\\Python\\\\Python38\\\\site-packages\\\\numpy\\\\__init__.py') fails to pass a sanity check due to a bug in the windows runtime. See this issue for more information: https://tinyurl.com/y3dm3h86"
     ]
    }
   ],
   "source": [
    "import tensorflow as tf\n",
    "tf.__version__"
   ]
  },
  {
   "cell_type": "code",
   "execution_count": 4,
   "metadata": {},
   "outputs": [
    {
     "ename": "RuntimeError",
     "evalue": "The current Numpy installation ('C:\\\\Users\\\\Neiln\\\\AppData\\\\Roaming\\\\Python\\\\Python38\\\\site-packages\\\\numpy\\\\__init__.py') fails to pass a sanity check due to a bug in the windows runtime. See this issue for more information: https://tinyurl.com/y3dm3h86",
     "output_type": "error",
     "traceback": [
      "\u001b[1;31m---------------------------------------------------------------------------\u001b[0m",
      "\u001b[1;31mRuntimeError\u001b[0m                              Traceback (most recent call last)",
      "\u001b[1;32m<ipython-input-4-0aa0b027fcb6>\u001b[0m in \u001b[0;36m<module>\u001b[1;34m\u001b[0m\n\u001b[1;32m----> 1\u001b[1;33m \u001b[1;32mimport\u001b[0m \u001b[0mnumpy\u001b[0m \u001b[1;32mas\u001b[0m \u001b[0mnp\u001b[0m\u001b[1;33m\u001b[0m\u001b[1;33m\u001b[0m\u001b[0m\n\u001b[0m",
      "\u001b[1;32m~\\AppData\\Roaming\\Python\\Python38\\site-packages\\numpy\\__init__.py\u001b[0m in \u001b[0;36m<module>\u001b[1;34m\u001b[0m\n\u001b[0;32m    303\u001b[0m \u001b[1;33m\u001b[0m\u001b[0m\n\u001b[0;32m    304\u001b[0m     \u001b[1;32mif\u001b[0m \u001b[0msys\u001b[0m\u001b[1;33m.\u001b[0m\u001b[0mplatform\u001b[0m \u001b[1;33m==\u001b[0m \u001b[1;34m\"win32\"\u001b[0m \u001b[1;32mand\u001b[0m \u001b[0msys\u001b[0m\u001b[1;33m.\u001b[0m\u001b[0mmaxsize\u001b[0m \u001b[1;33m>\u001b[0m \u001b[1;36m2\u001b[0m\u001b[1;33m**\u001b[0m\u001b[1;36m32\u001b[0m\u001b[1;33m:\u001b[0m\u001b[1;33m\u001b[0m\u001b[1;33m\u001b[0m\u001b[0m\n\u001b[1;32m--> 305\u001b[1;33m         \u001b[0m_win_os_check\u001b[0m\u001b[1;33m(\u001b[0m\u001b[1;33m)\u001b[0m\u001b[1;33m\u001b[0m\u001b[1;33m\u001b[0m\u001b[0m\n\u001b[0m\u001b[0;32m    306\u001b[0m \u001b[1;33m\u001b[0m\u001b[0m\n\u001b[0;32m    307\u001b[0m     \u001b[1;32mdel\u001b[0m \u001b[0m_win_os_check\u001b[0m\u001b[1;33m\u001b[0m\u001b[1;33m\u001b[0m\u001b[0m\n",
      "\u001b[1;32m~\\AppData\\Roaming\\Python\\Python38\\site-packages\\numpy\\__init__.py\u001b[0m in \u001b[0;36m_win_os_check\u001b[1;34m()\u001b[0m\n\u001b[0;32m    300\u001b[0m                    \u001b[1;34m\"See this issue for more information: \"\u001b[0m\u001b[1;33m\u001b[0m\u001b[1;33m\u001b[0m\u001b[0m\n\u001b[0;32m    301\u001b[0m                    \"https://tinyurl.com/y3dm3h86\")\n\u001b[1;32m--> 302\u001b[1;33m             \u001b[1;32mraise\u001b[0m \u001b[0mRuntimeError\u001b[0m\u001b[1;33m(\u001b[0m\u001b[0mmsg\u001b[0m\u001b[1;33m.\u001b[0m\u001b[0mformat\u001b[0m\u001b[1;33m(\u001b[0m\u001b[0m__file__\u001b[0m\u001b[1;33m)\u001b[0m\u001b[1;33m)\u001b[0m \u001b[1;32mfrom\u001b[0m \u001b[1;32mNone\u001b[0m\u001b[1;33m\u001b[0m\u001b[1;33m\u001b[0m\u001b[0m\n\u001b[0m\u001b[0;32m    303\u001b[0m \u001b[1;33m\u001b[0m\u001b[0m\n\u001b[0;32m    304\u001b[0m     \u001b[1;32mif\u001b[0m \u001b[0msys\u001b[0m\u001b[1;33m.\u001b[0m\u001b[0mplatform\u001b[0m \u001b[1;33m==\u001b[0m \u001b[1;34m\"win32\"\u001b[0m \u001b[1;32mand\u001b[0m \u001b[0msys\u001b[0m\u001b[1;33m.\u001b[0m\u001b[0mmaxsize\u001b[0m \u001b[1;33m>\u001b[0m \u001b[1;36m2\u001b[0m\u001b[1;33m**\u001b[0m\u001b[1;36m32\u001b[0m\u001b[1;33m:\u001b[0m\u001b[1;33m\u001b[0m\u001b[1;33m\u001b[0m\u001b[0m\n",
      "\u001b[1;31mRuntimeError\u001b[0m: The current Numpy installation ('C:\\\\Users\\\\Neiln\\\\AppData\\\\Roaming\\\\Python\\\\Python38\\\\site-packages\\\\numpy\\\\__init__.py') fails to pass a sanity check due to a bug in the windows runtime. See this issue for more information: https://tinyurl.com/y3dm3h86"
     ]
    }
   ],
   "source": [
    "import numpy as np"
   ]
  },
  {
   "cell_type": "code",
   "execution_count": 3,
   "metadata": {},
   "outputs": [
    {
     "name": "stdout",
     "output_type": "stream",
     "text": [
      "Collecting keras\n",
      "  Downloading Keras-2.4.3-py2.py3-none-any.whl (36 kB)\n",
      "Requirement already satisfied: numpy>=1.9.1 in c:\\users\\neiln\\anaconda3\\lib\\site-packages (from keras) (1.18.5)\n",
      "Requirement already satisfied: scipy>=0.14 in c:\\users\\neiln\\anaconda3\\lib\\site-packages (from keras) (1.5.2)\n",
      "Requirement already satisfied: h5py in c:\\users\\neiln\\anaconda3\\lib\\site-packages (from keras) (2.10.0)\n",
      "Requirement already satisfied: pyyaml in c:\\users\\neiln\\anaconda3\\lib\\site-packages (from keras) (5.3.1)\n",
      "Requirement already satisfied: six in c:\\users\\neiln\\anaconda3\\lib\\site-packages (from h5py->keras) (1.15.0)\n",
      "Installing collected packages: keras\n",
      "Successfully installed keras-2.4.3\n"
     ]
    }
   ],
   "source": [
    "!pip install keras"
   ]
  },
  {
   "cell_type": "code",
   "execution_count": 1,
   "metadata": {},
   "outputs": [
    {
     "name": "stderr",
     "output_type": "stream",
     "text": [
      "C:\\Users\\Neiln\\anaconda3\\lib\\site-packages\\numpy\\_distributor_init.py:30: UserWarning: loaded more than 1 DLL from .libs:\n",
      "C:\\Users\\Neiln\\anaconda3\\lib\\site-packages\\numpy\\.libs\\libopenblas.PYQHXLVVQ7VESDPUVUADXEVJOBGHJPAY.gfortran-win_amd64.dll\n",
      "C:\\Users\\Neiln\\anaconda3\\lib\\site-packages\\numpy\\.libs\\libopenblas.QVLO2T66WEPI7JZ63PS3HMOHFEY472BC.gfortran-win_amd64.dll\n",
      "  warnings.warn(\"loaded more than 1 DLL from .libs:\"\n"
     ]
    },
    {
     "data": {
      "text/plain": [
       "'2.4.3'"
      ]
     },
     "execution_count": 1,
     "metadata": {},
     "output_type": "execute_result"
    }
   ],
   "source": [
    "import keras\n",
    "keras.__version__"
   ]
  },
  {
   "cell_type": "code",
   "execution_count": 2,
   "metadata": {},
   "outputs": [
    {
     "name": "stdout",
     "output_type": "stream",
     "text": [
      "Collecting torch\n",
      "  Downloading torch-0.1.2.post2.tar.gz (128 kB)\n",
      "Requirement already satisfied: pyyaml in c:\\users\\neiln\\anaconda3\\lib\\site-packages (from torch) (5.3.1)\n",
      "Building wheels for collected packages: torch\n",
      "  Building wheel for torch (setup.py): started\n",
      "  Building wheel for torch (setup.py): finished with status 'error'\n",
      "  Running setup.py clean for torch\n",
      "Failed to build torch\n",
      "Installing collected packages: torch\n",
      "    Running setup.py install for torch: started\n",
      "    Running setup.py install for torch: finished with status 'error'\n"
     ]
    },
    {
     "name": "stderr",
     "output_type": "stream",
     "text": [
      "  ERROR: Command errored out with exit status 1:\n",
      "   command: 'C:\\Users\\Neiln\\anaconda3\\python.exe' -u -c 'import sys, setuptools, tokenize; sys.argv[0] = '\"'\"'C:\\\\Users\\\\Neiln\\\\AppData\\\\Local\\\\Temp\\\\pip-install-y07sf49f\\\\torch\\\\setup.py'\"'\"'; __file__='\"'\"'C:\\\\Users\\\\Neiln\\\\AppData\\\\Local\\\\Temp\\\\pip-install-y07sf49f\\\\torch\\\\setup.py'\"'\"';f=getattr(tokenize, '\"'\"'open'\"'\"', open)(__file__);code=f.read().replace('\"'\"'\\r\\n'\"'\"', '\"'\"'\\n'\"'\"');f.close();exec(compile(code, __file__, '\"'\"'exec'\"'\"'))' bdist_wheel -d 'C:\\Users\\Neiln\\AppData\\Local\\Temp\\pip-wheel-b4heiols'\n",
      "       cwd: C:\\Users\\Neiln\\AppData\\Local\\Temp\\pip-install-y07sf49f\\torch\\\n",
      "  Complete output (30 lines):\n",
      "  running bdist_wheel\n",
      "  running build\n",
      "  running build_deps\n",
      "  Traceback (most recent call last):\n",
      "    File \"<string>\", line 1, in <module>\n",
      "    File \"C:\\Users\\Neiln\\AppData\\Local\\Temp\\pip-install-y07sf49f\\torch\\setup.py\", line 225, in <module>\n",
      "      setup(name=\"torch\", version=\"0.1.2.post2\",\n",
      "    File \"C:\\Users\\Neiln\\anaconda3\\lib\\site-packages\\setuptools\\__init__.py\", line 153, in setup\n",
      "      return distutils.core.setup(**attrs)\n",
      "    File \"C:\\Users\\Neiln\\anaconda3\\lib\\distutils\\core.py\", line 148, in setup\n",
      "      dist.run_commands()\n",
      "    File \"C:\\Users\\Neiln\\anaconda3\\lib\\distutils\\dist.py\", line 966, in run_commands\n",
      "      self.run_command(cmd)\n",
      "    File \"C:\\Users\\Neiln\\anaconda3\\lib\\distutils\\dist.py\", line 985, in run_command\n",
      "      cmd_obj.run()\n",
      "    File \"C:\\Users\\Neiln\\anaconda3\\lib\\site-packages\\wheel\\bdist_wheel.py\", line 290, in run\n",
      "      self.run_command('build')\n",
      "    File \"C:\\Users\\Neiln\\anaconda3\\lib\\distutils\\cmd.py\", line 313, in run_command\n",
      "      self.distribution.run_command(command)\n",
      "    File \"C:\\Users\\Neiln\\anaconda3\\lib\\distutils\\dist.py\", line 985, in run_command\n",
      "      cmd_obj.run()\n",
      "    File \"C:\\Users\\Neiln\\anaconda3\\lib\\distutils\\command\\build.py\", line 135, in run\n",
      "      self.run_command(cmd_name)\n",
      "    File \"C:\\Users\\Neiln\\anaconda3\\lib\\distutils\\cmd.py\", line 313, in run_command\n",
      "      self.distribution.run_command(command)\n",
      "    File \"C:\\Users\\Neiln\\anaconda3\\lib\\distutils\\dist.py\", line 985, in run_command\n",
      "      cmd_obj.run()\n",
      "    File \"C:\\Users\\Neiln\\AppData\\Local\\Temp\\pip-install-y07sf49f\\torch\\setup.py\", line 51, in run\n",
      "      from tools.nnwrap import generate_wrappers as generate_nn_wrappers\n",
      "  ModuleNotFoundError: No module named 'tools.nnwrap'\n",
      "  ----------------------------------------\n",
      "  ERROR: Failed building wheel for torch\n",
      "  ERROR: Command errored out with exit status 1:\n",
      "   command: 'C:\\Users\\Neiln\\anaconda3\\python.exe' -u -c 'import sys, setuptools, tokenize; sys.argv[0] = '\"'\"'C:\\\\Users\\\\Neiln\\\\AppData\\\\Local\\\\Temp\\\\pip-install-y07sf49f\\\\torch\\\\setup.py'\"'\"'; __file__='\"'\"'C:\\\\Users\\\\Neiln\\\\AppData\\\\Local\\\\Temp\\\\pip-install-y07sf49f\\\\torch\\\\setup.py'\"'\"';f=getattr(tokenize, '\"'\"'open'\"'\"', open)(__file__);code=f.read().replace('\"'\"'\\r\\n'\"'\"', '\"'\"'\\n'\"'\"');f.close();exec(compile(code, __file__, '\"'\"'exec'\"'\"'))' clean --all\n",
      "       cwd: C:\\Users\\Neiln\\AppData\\Local\\Temp\\pip-install-y07sf49f\\torch\n",
      "  Complete output (2 lines):\n",
      "  running clean\n",
      "  error: [Errno 2] No such file or directory: '.gitignore'\n",
      "  ----------------------------------------\n",
      "  ERROR: Failed cleaning build dir for torch\n",
      "    ERROR: Command errored out with exit status 1:\n",
      "     command: 'C:\\Users\\Neiln\\anaconda3\\python.exe' -u -c 'import sys, setuptools, tokenize; sys.argv[0] = '\"'\"'C:\\\\Users\\\\Neiln\\\\AppData\\\\Local\\\\Temp\\\\pip-install-y07sf49f\\\\torch\\\\setup.py'\"'\"'; __file__='\"'\"'C:\\\\Users\\\\Neiln\\\\AppData\\\\Local\\\\Temp\\\\pip-install-y07sf49f\\\\torch\\\\setup.py'\"'\"';f=getattr(tokenize, '\"'\"'open'\"'\"', open)(__file__);code=f.read().replace('\"'\"'\\r\\n'\"'\"', '\"'\"'\\n'\"'\"');f.close();exec(compile(code, __file__, '\"'\"'exec'\"'\"'))' install --record 'C:\\Users\\Neiln\\AppData\\Local\\Temp\\pip-record-4a0kxdbf\\install-record.txt' --single-version-externally-managed --compile --install-headers 'C:\\Users\\Neiln\\anaconda3\\Include\\torch'\n",
      "         cwd: C:\\Users\\Neiln\\AppData\\Local\\Temp\\pip-install-y07sf49f\\torch\\\n",
      "    Complete output (23 lines):\n",
      "    running install\n",
      "    running build_deps\n",
      "    Traceback (most recent call last):\n",
      "      File \"<string>\", line 1, in <module>\n",
      "      File \"C:\\Users\\Neiln\\AppData\\Local\\Temp\\pip-install-y07sf49f\\torch\\setup.py\", line 225, in <module>\n",
      "        setup(name=\"torch\", version=\"0.1.2.post2\",\n",
      "      File \"C:\\Users\\Neiln\\anaconda3\\lib\\site-packages\\setuptools\\__init__.py\", line 153, in setup\n",
      "        return distutils.core.setup(**attrs)\n",
      "      File \"C:\\Users\\Neiln\\anaconda3\\lib\\distutils\\core.py\", line 148, in setup\n",
      "        dist.run_commands()\n",
      "      File \"C:\\Users\\Neiln\\anaconda3\\lib\\distutils\\dist.py\", line 966, in run_commands\n",
      "        self.run_command(cmd)\n",
      "      File \"C:\\Users\\Neiln\\anaconda3\\lib\\distutils\\dist.py\", line 985, in run_command\n",
      "        cmd_obj.run()\n",
      "      File \"C:\\Users\\Neiln\\AppData\\Local\\Temp\\pip-install-y07sf49f\\torch\\setup.py\", line 99, in run\n",
      "        self.run_command('build_deps')\n",
      "      File \"C:\\Users\\Neiln\\anaconda3\\lib\\distutils\\cmd.py\", line 313, in run_command\n",
      "        self.distribution.run_command(command)\n",
      "      File \"C:\\Users\\Neiln\\anaconda3\\lib\\distutils\\dist.py\", line 985, in run_command\n",
      "        cmd_obj.run()\n",
      "      File \"C:\\Users\\Neiln\\AppData\\Local\\Temp\\pip-install-y07sf49f\\torch\\setup.py\", line 51, in run\n",
      "        from tools.nnwrap import generate_wrappers as generate_nn_wrappers\n",
      "    ModuleNotFoundError: No module named 'tools.nnwrap'\n",
      "    ----------------------------------------\n",
      "ERROR: Command errored out with exit status 1: 'C:\\Users\\Neiln\\anaconda3\\python.exe' -u -c 'import sys, setuptools, tokenize; sys.argv[0] = '\"'\"'C:\\\\Users\\\\Neiln\\\\AppData\\\\Local\\\\Temp\\\\pip-install-y07sf49f\\\\torch\\\\setup.py'\"'\"'; __file__='\"'\"'C:\\\\Users\\\\Neiln\\\\AppData\\\\Local\\\\Temp\\\\pip-install-y07sf49f\\\\torch\\\\setup.py'\"'\"';f=getattr(tokenize, '\"'\"'open'\"'\"', open)(__file__);code=f.read().replace('\"'\"'\\r\\n'\"'\"', '\"'\"'\\n'\"'\"');f.close();exec(compile(code, __file__, '\"'\"'exec'\"'\"'))' install --record 'C:\\Users\\Neiln\\AppData\\Local\\Temp\\pip-record-4a0kxdbf\\install-record.txt' --single-version-externally-managed --compile --install-headers 'C:\\Users\\Neiln\\anaconda3\\Include\\torch' Check the logs for full command output.\n"
     ]
    }
   ],
   "source": [
    "!pip install torch"
   ]
  },
  {
   "cell_type": "code",
   "execution_count": 4,
   "metadata": {},
   "outputs": [
    {
     "name": "stdout",
     "output_type": "stream",
     "text": [
      "Looking in links: https://download.pytorch.org/whl/torch_stable.html\n",
      "Collecting torch===1.7.0+cu110\n",
      "  Downloading https://download.pytorch.org/whl/cu110/torch-1.7.0%2Bcu110-cp38-cp38-win_amd64.whl (2046.8 MB)\n",
      "Collecting torchvision===0.8.1+cu110\n",
      "  Downloading https://download.pytorch.org/whl/cu110/torchvision-0.8.1%2Bcu110-cp38-cp38-win_amd64.whl (1.6 MB)\n",
      "Requirement already satisfied: torchaudio===0.7.0 in c:\\users\\neiln\\anaconda3\\lib\\site-packages (0.7.0)\n",
      "Requirement already satisfied: dataclasses in c:\\users\\neiln\\anaconda3\\lib\\site-packages (from torch===1.7.0+cu110) (0.6)\n",
      "Requirement already satisfied: typing-extensions in c:\\users\\neiln\\anaconda3\\lib\\site-packages (from torch===1.7.0+cu110) (3.7.4.3)\n",
      "Requirement already satisfied: future in c:\\users\\neiln\\anaconda3\\lib\\site-packages (from torch===1.7.0+cu110) (0.18.2)\n",
      "Requirement already satisfied: numpy in c:\\users\\neiln\\anaconda3\\lib\\site-packages (from torch===1.7.0+cu110) (1.18.5)\n",
      "Requirement already satisfied: pillow>=4.1.1 in c:\\users\\neiln\\anaconda3\\lib\\site-packages (from torchvision===0.8.1+cu110) (8.0.1)\n",
      "Installing collected packages: torch, torchvision\n",
      "  Attempting uninstall: torch\n",
      "    Found existing installation: torch 1.7.0\n",
      "    Uninstalling torch-1.7.0:\n",
      "      Successfully uninstalled torch-1.7.0\n",
      "  Attempting uninstall: torchvision\n",
      "    Found existing installation: torchvision 0.8.1\n",
      "    Uninstalling torchvision-0.8.1:\n",
      "      Successfully uninstalled torchvision-0.8.1\n",
      "Successfully installed torch-1.7.0+cu110 torchvision-0.8.1+cu110\n",
      "Note: you may need to restart the kernel to use updated packages.\n"
     ]
    }
   ],
   "source": [
    "pip install torch===1.7.0+cu110 torchvision===0.8.1+cu110 torchaudio===0.7.0 -f https://download.pytorch.org/whl/torch_stable.html"
   ]
  },
  {
   "cell_type": "code",
   "execution_count": 5,
   "metadata": {},
   "outputs": [],
   "source": [
    "import tensorflow as tf"
   ]
  },
  {
   "cell_type": "code",
   "execution_count": null,
   "metadata": {},
   "outputs": [],
   "source": []
  }
 ],
 "metadata": {
  "kernelspec": {
   "display_name": "Python 3",
   "language": "python",
   "name": "python3"
  },
  "language_info": {
   "codemirror_mode": {
    "name": "ipython",
    "version": 3
   },
   "file_extension": ".py",
   "mimetype": "text/x-python",
   "name": "python",
   "nbconvert_exporter": "python",
   "pygments_lexer": "ipython3",
   "version": "3.8.5"
  }
 },
 "nbformat": 4,
 "nbformat_minor": 4
}
