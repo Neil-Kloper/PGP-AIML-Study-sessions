{
  "nbformat": 4,
  "nbformat_minor": 0,
  "metadata": {
    "colab": {
      "name": "Scratchpad AIML session 1.ipynb",
      "provenance": []
    },
    "kernelspec": {
      "name": "python3",
      "display_name": "Python 3"
    }
  },
  "cells": [
    {
      "cell_type": "code",
      "metadata": {
        "id": "0SvdV36nFSfA",
        "colab_type": "code",
        "colab": {}
      },
      "source": [
        "my_list = [1,2,'y']"
      ],
      "execution_count": 6,
      "outputs": []
    },
    {
      "cell_type": "code",
      "metadata": {
        "id": "tzPzhjHfGxXR",
        "colab_type": "code",
        "colab": {}
      },
      "source": [
        "my_list[2] = 3"
      ],
      "execution_count": 7,
      "outputs": []
    },
    {
      "cell_type": "code",
      "metadata": {
        "id": "0PfMo-obG2eZ",
        "colab_type": "code",
        "colab": {
          "base_uri": "https://localhost:8080/",
          "height": 34
        },
        "outputId": "6835243e-c065-47fc-a7ec-a329b6a22a08"
      },
      "source": [
        "my_list"
      ],
      "execution_count": 8,
      "outputs": [
        {
          "output_type": "execute_result",
          "data": {
            "text/plain": [
              "[1, 2, 3]"
            ]
          },
          "metadata": {
            "tags": []
          },
          "execution_count": 8
        }
      ]
    },
    {
      "cell_type": "code",
      "metadata": {
        "id": "ZhjbWZdKG8yo",
        "colab_type": "code",
        "colab": {
          "base_uri": "https://localhost:8080/",
          "height": 119
        },
        "outputId": "c9e8f14f-8c3d-4e39-dff5-0283a5de045c"
      },
      "source": [
        "for variable in my_list:\n",
        "  if variable > 1:\n",
        "    print(variable)\n",
        "  else:\n",
        "    print('one')\n",
        "  print('newline')"
      ],
      "execution_count": 12,
      "outputs": [
        {
          "output_type": "stream",
          "text": [
            "one\n",
            "newline\n",
            "2\n",
            "newline\n",
            "3\n",
            "newline\n"
          ],
          "name": "stdout"
        }
      ]
    },
    {
      "cell_type": "markdown",
      "metadata": {
        "id": "rNW2Bmk7Io7_",
        "colab_type": "text"
      },
      "source": [
        "# FizzBuzz\n",
        "\n",
        "for a given value if value is divisible by 3 print fizz, if divisible by 2 print buzz, if divisible by both print fizzbuzz."
      ]
    },
    {
      "cell_type": "code",
      "metadata": {
        "id": "PAwiMjLOH61Q",
        "colab_type": "code",
        "colab": {}
      },
      "source": [
        "def fizzbuzz(num):\n",
        "  if num % 3 == 0:\n",
        "    print('Fizz')\n",
        "  if num % 2 == 0:\n",
        "    print('Buzz')"
      ],
      "execution_count": 13,
      "outputs": []
    },
    {
      "cell_type": "code",
      "metadata": {
        "id": "vNsBH-vEJxVS",
        "colab_type": "code",
        "colab": {}
      },
      "source": [
        "x = fizzbuzz(6)"
      ],
      "execution_count": 33,
      "outputs": []
    },
    {
      "cell_type": "code",
      "metadata": {
        "id": "FboDHRyrJ0To",
        "colab_type": "code",
        "colab": {}
      },
      "source": [
        "def fizzbuzz(num):\n",
        "  if (num % 3 == 0) & (num % 2 == 0):print('FizzBuzz')    \n",
        "  else:\n",
        "    if num % 3 == 0:print('Fizz')      \n",
        "    if num % 2 == 0:print('Buzz')\n",
        "     "
      ],
      "execution_count": 24,
      "outputs": []
    },
    {
      "cell_type": "code",
      "metadata": {
        "id": "dUS8ZJCRKoIt",
        "colab_type": "code",
        "colab": {}
      },
      "source": [
        "def fizzbuzz(num):\n",
        "  out = ''\n",
        "  if (num % 3 == 0) & (num % 2 == 0):\n",
        "      out = 'FizzBuzz'    \n",
        "  else:\n",
        "    if num % 3 == 0:\n",
        "      out = 'Fizz'      \n",
        "    if num % 2 == 0:\n",
        "      out += 'Buzz'\n",
        "  return out"
      ],
      "execution_count": 27,
      "outputs": []
    },
    {
      "cell_type": "code",
      "metadata": {
        "id": "HDjHeAJPMExS",
        "colab_type": "code",
        "colab": {
          "base_uri": "https://localhost:8080/",
          "height": 187
        },
        "outputId": "c048fb44-eda4-49d3-b3d9-85475f919277"
      },
      "source": [
        "for element in list(range(10)):\n",
        "  print(element, fizzbuzz(element))"
      ],
      "execution_count": 43,
      "outputs": [
        {
          "output_type": "stream",
          "text": [
            "0 FizzBuzz\n",
            "1 \n",
            "2 Buzz\n",
            "3 Fizz\n",
            "4 Buzz\n",
            "5 \n",
            "6 FizzBuzz\n",
            "7 \n",
            "8 Buzz\n",
            "9 Fizz\n"
          ],
          "name": "stdout"
        }
      ]
    },
    {
      "cell_type": "code",
      "metadata": {
        "id": "GT252qD4Mu05",
        "colab_type": "code",
        "colab": {
          "base_uri": "https://localhost:8080/",
          "height": 34
        },
        "outputId": "87b4652c-3b37-4046-d979-75e5eac2180b"
      },
      "source": [
        "x = range(10)\n",
        "x"
      ],
      "execution_count": 37,
      "outputs": [
        {
          "output_type": "execute_result",
          "data": {
            "text/plain": [
              "range(0, 10)"
            ]
          },
          "metadata": {
            "tags": []
          },
          "execution_count": 37
        }
      ]
    },
    {
      "cell_type": "code",
      "metadata": {
        "id": "CFwgrGSdM9bg",
        "colab_type": "code",
        "colab": {
          "base_uri": "https://localhost:8080/",
          "height": 34
        },
        "outputId": "dd6f974e-ba50-4554-f99b-a0ed68a11ed2"
      },
      "source": [
        "list(x)"
      ],
      "execution_count": 38,
      "outputs": [
        {
          "output_type": "execute_result",
          "data": {
            "text/plain": [
              "[0, 1, 2, 3, 4, 5, 6, 7, 8, 9]"
            ]
          },
          "metadata": {
            "tags": []
          },
          "execution_count": 38
        }
      ]
    },
    {
      "cell_type": "code",
      "metadata": {
        "id": "_Lf_QnPaNOig",
        "colab_type": "code",
        "colab": {
          "base_uri": "https://localhost:8080/",
          "height": 102
        },
        "outputId": "f94e8dd4-540f-4e6c-dce8-8a8a2c285850"
      },
      "source": [
        "x = 5\n",
        "\n",
        "while x != 0:\n",
        "  print(x)\n",
        "  x = x - 1"
      ],
      "execution_count": 47,
      "outputs": [
        {
          "output_type": "stream",
          "text": [
            "5\n",
            "4\n",
            "3\n",
            "2\n",
            "1\n"
          ],
          "name": "stdout"
        }
      ]
    },
    {
      "cell_type": "markdown",
      "metadata": {
        "id": "W7KOYDHlPEVy",
        "colab_type": "text"
      },
      "source": [
        "# Compound interest calculator\n",
        "\n",
        "given a starting value, an interest rate, and number of years write a function to determine the final value."
      ]
    },
    {
      "cell_type": "code",
      "metadata": {
        "id": "iVDmN6eSOSpk",
        "colab_type": "code",
        "colab": {
          "base_uri": "https://localhost:8080/",
          "height": 34
        },
        "outputId": "63daa994-7fb4-4cd5-aced-d2b05a794ddc"
      },
      "source": [
        "def compund_interest(pv, roi, c=5):\n",
        "  return pv*(roi+1)**c\n",
        "\n",
        "compund_interest(roi=.08, pv=10, c=7)"
      ],
      "execution_count": 51,
      "outputs": [
        {
          "output_type": "execute_result",
          "data": {
            "text/plain": [
              "17.13824268779521"
            ]
          },
          "metadata": {
            "tags": []
          },
          "execution_count": 51
        }
      ]
    },
    {
      "cell_type": "code",
      "metadata": {
        "id": "n_EfmHlNSH4q",
        "colab_type": "code",
        "colab": {
          "base_uri": "https://localhost:8080/",
          "height": 34
        },
        "outputId": "16785141-1233-4bca-f89d-3f962aa01b61"
      },
      "source": [
        "def compound_interest(pv, roi, c=5):\n",
        "  out = pv\n",
        "  while c != 0:\n",
        "    out = out + (out * roi)\n",
        "    c-=1\n",
        "  return out\n",
        "\n",
        "compound_interest(roi=.08, pv=10, c=7)"
      ],
      "execution_count": 56,
      "outputs": [
        {
          "output_type": "execute_result",
          "data": {
            "text/plain": [
              "17.138242687795202"
            ]
          },
          "metadata": {
            "tags": []
          },
          "execution_count": 56
        }
      ]
    },
    {
      "cell_type": "markdown",
      "metadata": {
        "id": "7i0wGgm6Txlk",
        "colab_type": "text"
      },
      "source": [
        "# Compound interest calculator 2\n",
        "\n",
        "given a starting value, an interest rate, and a goal write a function to determine how many years before the goal is reached."
      ]
    },
    {
      "cell_type": "code",
      "metadata": {
        "id": "qV6_AjDITKka",
        "colab_type": "code",
        "colab": {}
      },
      "source": [
        "def compound_interest_2(pv, roi, fv):\n",
        "  count = 0\n",
        "  while pv < fv:\n",
        "    count += 1\n",
        "    pv = pv + (pv * roi)\n",
        "#    print(pv)\n",
        "  return count"
      ],
      "execution_count": 65,
      "outputs": []
    },
    {
      "cell_type": "code",
      "metadata": {
        "id": "_EDdbLy2VZ5U",
        "colab_type": "code",
        "colab": {
          "base_uri": "https://localhost:8080/",
          "height": 34
        },
        "outputId": "2cabaed5-dcd3-42c7-a273-2cebbe958177"
      },
      "source": [
        "compound_interest_2(10, .08, 17.14)"
      ],
      "execution_count": 66,
      "outputs": [
        {
          "output_type": "execute_result",
          "data": {
            "text/plain": [
              "8"
            ]
          },
          "metadata": {
            "tags": []
          },
          "execution_count": 66
        }
      ]
    },
    {
      "cell_type": "code",
      "metadata": {
        "id": "bFwRS2W3WKcN",
        "colab_type": "code",
        "colab": {}
      },
      "source": [
        "x = 1"
      ],
      "execution_count": 67,
      "outputs": []
    },
    {
      "cell_type": "code",
      "metadata": {
        "id": "zMZr8sceb6mF",
        "colab_type": "code",
        "colab": {
          "base_uri": "https://localhost:8080/",
          "height": 34
        },
        "outputId": "b7d45b4f-dd87-4eb2-a956-93d48b267984"
      },
      "source": [
        "x == 1"
      ],
      "execution_count": 68,
      "outputs": [
        {
          "output_type": "execute_result",
          "data": {
            "text/plain": [
              "True"
            ]
          },
          "metadata": {
            "tags": []
          },
          "execution_count": 68
        }
      ]
    },
    {
      "cell_type": "markdown",
      "metadata": {
        "id": "6RtlUKrrd3V7",
        "colab_type": "text"
      },
      "source": [
        "# Task\n",
        "Given an integer, perform the following conditional actions:\n",
        "* If n is odd, print Weird\n",
        "* If n is even and in the inclusive range of 2 to 5, print Not Weird\n",
        "* If n is even and in the inclusive range of 6 to 20, print Weird\n",
        "* If n is even and greater than 20, print Not Weird"
      ]
    },
    {
      "cell_type": "code",
      "metadata": {
        "id": "ljhRwmk2b_Fc",
        "colab_type": "code",
        "colab": {}
      },
      "source": [
        "def weird(n):\n",
        "    if n % 2 == 1:\n",
        "        return  'Weird'\n",
        "    if n == 2 or n == 4:\n",
        "        return 'Not Weird'\n",
        "    if n in range(6,21) and n % 2 == 0:\n",
        "        return 'Weird'\n",
        "    if n > 20 and n % 2 == 0:\n",
        "        return 'Not Weird'"
      ],
      "execution_count": 69,
      "outputs": []
    },
    {
      "cell_type": "code",
      "metadata": {
        "id": "6CY7bFY6eQui",
        "colab_type": "code",
        "colab": {
          "base_uri": "https://localhost:8080/",
          "height": 391
        },
        "outputId": "b09fc0a3-be23-475a-e599-0971d1be9fd1"
      },
      "source": [
        "for i in range(22):\n",
        "  print(weird(i))"
      ],
      "execution_count": 70,
      "outputs": [
        {
          "output_type": "stream",
          "text": [
            "None\n",
            "Weird\n",
            "Not Weird\n",
            "Weird\n",
            "Not Weird\n",
            "Weird\n",
            "Weird\n",
            "Weird\n",
            "Weird\n",
            "Weird\n",
            "Weird\n",
            "Weird\n",
            "Weird\n",
            "Weird\n",
            "Weird\n",
            "Weird\n",
            "Weird\n",
            "Weird\n",
            "Weird\n",
            "Weird\n",
            "Weird\n",
            "Weird\n"
          ],
          "name": "stdout"
        }
      ]
    },
    {
      "cell_type": "code",
      "metadata": {
        "id": "L4U-GukdeVUF",
        "colab_type": "code",
        "colab": {}
      },
      "source": [
        "def control_flow(num):\n",
        "  if num == 3:\n",
        "    print('you won!')\n",
        "  elif num in range(1, 6):\n",
        "    print('you are close.')\n",
        "  elif num in range(0, 10):\n",
        "    print('warmer')\n",
        "  else:\n",
        "    print('wrong answer.')"
      ],
      "execution_count": 76,
      "outputs": []
    },
    {
      "cell_type": "code",
      "metadata": {
        "id": "ozQo3Amse1gl",
        "colab_type": "code",
        "colab": {
          "base_uri": "https://localhost:8080/",
          "height": 34
        },
        "outputId": "e0b3accc-a8d1-44ca-9132-e7bdfdc41b3c"
      },
      "source": [
        "control_flow(4)"
      ],
      "execution_count": 77,
      "outputs": [
        {
          "output_type": "stream",
          "text": [
            "you are close.\n"
          ],
          "name": "stdout"
        }
      ]
    },
    {
      "cell_type": "code",
      "metadata": {
        "id": "AzUxVyE-e6xd",
        "colab_type": "code",
        "colab": {}
      },
      "source": [
        ""
      ],
      "execution_count": null,
      "outputs": []
    }
  ]
}